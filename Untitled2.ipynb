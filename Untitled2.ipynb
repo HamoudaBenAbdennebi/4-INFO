{
 "cells": [
  {
   "cell_type": "code",
   "execution_count": 3,
   "id": "ba041e33",
   "metadata": {},
   "outputs": [],
   "source": [
    "def trianglePascal(n):\n",
    "    T = [[0] * (n+1) for p in range(n+1)]\n",
    "    for n in range(n+1):\n",
    "        if n == 0:\n",
    "            T[n][0] = 1\n",
    "        else:\n",
    "            for k in range(n+1):\n",
    "                if k == 0:\n",
    "                    T[n][0] = 1\n",
    "                else:\n",
    "                    T[n][k] = T[n-1][k-1] + T[n-1][k]\n",
    "    return T\n",
    "\n"
   ]
  },
  {
   "cell_type": "code",
   "execution_count": 4,
   "id": "41a2169c",
   "metadata": {},
   "outputs": [],
   "source": [
    "T = trianglePascal(9)"
   ]
  },
  {
   "cell_type": "code",
   "execution_count": 6,
   "id": "b60473f7",
   "metadata": {},
   "outputs": [
    {
     "data": {
      "text/plain": [
       "[[1, 0, 0, 0, 0, 0, 0, 0, 0, 0],\n",
       " [1, 1, 0, 0, 0, 0, 0, 0, 0, 0],\n",
       " [1, 2, 1, 0, 0, 0, 0, 0, 0, 0],\n",
       " [1, 3, 3, 1, 0, 0, 0, 0, 0, 0],\n",
       " [1, 4, 6, 4, 1, 0, 0, 0, 0, 0],\n",
       " [1, 5, 10, 10, 5, 1, 0, 0, 0, 0],\n",
       " [1, 6, 15, 20, 15, 6, 1, 0, 0, 0],\n",
       " [1, 7, 21, 35, 35, 21, 7, 1, 0, 0],\n",
       " [1, 8, 28, 56, 70, 56, 28, 8, 1, 0],\n",
       " [1, 9, 36, 84, 126, 126, 84, 36, 9, 1]]"
      ]
     },
     "execution_count": 6,
     "metadata": {},
     "output_type": "execute_result"
    }
   ],
   "source": [
    "T"
   ]
  },
  {
   "cell_type": "code",
   "execution_count": null,
   "id": "5435147c",
   "metadata": {},
   "outputs": [],
   "source": []
  }
 ],
 "metadata": {
  "kernelspec": {
   "display_name": "Python 3",
   "language": "python",
   "name": "python3"
  },
  "language_info": {
   "codemirror_mode": {
    "name": "ipython",
    "version": 3
   },
   "file_extension": ".py",
   "mimetype": "text/x-python",
   "name": "python",
   "nbconvert_exporter": "python",
   "pygments_lexer": "ipython3",
   "version": "3.8.8"
  }
 },
 "nbformat": 4,
 "nbformat_minor": 5
}
