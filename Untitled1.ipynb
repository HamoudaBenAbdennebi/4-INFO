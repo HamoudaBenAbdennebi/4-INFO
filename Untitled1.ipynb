{
 "cells": [
  {
   "cell_type": "code",
   "execution_count": 30,
   "id": "bcc6db72",
   "metadata": {},
   "outputs": [],
   "source": [
    "def mtc():\n",
    "    x = input('mot cle : ')\n",
    "    while verifd(x) == False or x.isupper() == False or len(x)>8 or  len(x)<0:\n",
    "        x = input('mot cle : ')\n",
    "    return x"
   ]
  },
  {
   "cell_type": "code",
   "execution_count": 31,
   "id": "b7ba09be",
   "metadata": {},
   "outputs": [],
   "source": [
    "def verifd(x):\n",
    "    for i in range(len(x)):\n",
    "        if x.count(x[i]) != 1:\n",
    "            return False\n",
    "    return True"
   ]
  },
  {
   "cell_type": "code",
   "execution_count": 32,
   "id": "d2e1b0f5",
   "metadata": {},
   "outputs": [],
   "source": [
    "def saisirN():\n",
    "    while True:\n",
    "        x= int(input(\"donner N\"))\n",
    "        if x >100 or x<10:\n",
    "            break\n",
    "    return x"
   ]
  },
  {
   "cell_type": "code",
   "execution_count": 33,
   "id": "868160d5",
   "metadata": {},
   "outputs": [],
   "source": [
    "def construireM(c):\n",
    "    M = [[0 for i in range(5)]for j in range(5)]\n",
    "    ch = construirech(c)\n",
    "    s=0\n",
    "    for i in range(0,5):\n",
    "        for j in range(0,5):\n",
    "            M[i][j]=ch[s]\n",
    "            s+=1\n",
    "            "
   ]
  },
  {
   "cell_type": "code",
   "execution_count": 41,
   "id": "84f2bd1d",
   "metadata": {},
   "outputs": [],
   "source": [
    "def construirech(c):\n",
    "    alp = ['a', 'b', 'c', 'd', 'e', 'f', 'g', 'h', 'i', 'j', 'k', 'l', 'm', 'n', 'o', 'p', 'q', 'r', 's', 't', 'u', 'v', 'w', 'x', 'y', 'z']\n",
    "    for i in range(len(alp)):\n",
    "        alp[i].upper()\n",
    "    ch = c\n",
    "    if ch.index('J') >= 0:\n",
    "        ch = ch.replace('J', '')\n",
    "    for L in range(len(alp)):\n",
    "        if c.index(L) and L != \"J\":\n",
    "            ch+=L\n",
    "    return ch"
   ]
  },
  {
   "cell_type": "code",
   "execution_count": 35,
   "id": "4744e31e",
   "metadata": {},
   "outputs": [],
   "source": [
    "def remplireT(N):\n",
    "    T=[]\n",
    "    for i in range(N):\n",
    "        \n",
    "        x = input('x = ')\n",
    "        while x.isupper() == False or len(x) == 0:\n",
    "            x = input('x = ')\n",
    "            T.append(x)\n",
    "        "
   ]
  },
  {
   "cell_type": "code",
   "execution_count": 36,
   "id": "e130bd77",
   "metadata": {},
   "outputs": [],
   "source": [
    "def crypter(T,N,M):\n",
    "    TC=[]\n",
    "    for i in range(N):\n",
    "        TC[i] = chiffrer(T[i],M)\n"
   ]
  },
  {
   "cell_type": "code",
   "execution_count": 37,
   "id": "aa649a4e",
   "metadata": {},
   "outputs": [],
   "source": [
    "def chiffrer(ch,M):\n",
    "    K = \"\"\n",
    "    for i in range(len(len(ch))):\n",
    "        K = K+codage(ch[i],M)\n",
    "    return K"
   ]
  },
  {
   "cell_type": "code",
   "execution_count": 38,
   "id": "3e562eb2",
   "metadata": {},
   "outputs": [],
   "source": [
    "def codage(C,M):\n",
    "    v = False\n",
    "    i = 0\n",
    "    while V == False and i < 5:\n",
    "        j = 0\n",
    "        while V == False and j < 5:\n",
    "            if M[i][j] == C:\n",
    "                V = True\n",
    "            else:\n",
    "                j += 1\n",
    "        i += 1\n",
    "    return str(i)+str(j)\n"
   ]
  },
  {
   "cell_type": "code",
   "execution_count": 39,
   "id": "103163df",
   "metadata": {},
   "outputs": [],
   "source": [
    "def Afficher(T,n):\n",
    "    for i in range(n):\n",
    "        print(T[i])"
   ]
  },
  {
   "cell_type": "code",
   "execution_count": null,
   "id": "0308f941",
   "metadata": {},
   "outputs": [],
   "source": [
    "c = mtc()\n",
    "N = saisirN()\n",
    "construireM(c)\n",
    "remplireT(N)\n",
    "crypter(T,N,M)\n",
    "Afficher(T,n)"
   ]
  },
  {
   "cell_type": "code",
   "execution_count": null,
   "id": "8cd6e0b3",
   "metadata": {},
   "outputs": [],
   "source": []
  }
 ],
 "metadata": {
  "kernelspec": {
   "display_name": "Python 3",
   "language": "python",
   "name": "python3"
  },
  "language_info": {
   "codemirror_mode": {
    "name": "ipython",
    "version": 3
   },
   "file_extension": ".py",
   "mimetype": "text/x-python",
   "name": "python",
   "nbconvert_exporter": "python",
   "pygments_lexer": "ipython3",
   "version": "3.8.8"
  }
 },
 "nbformat": 4,
 "nbformat_minor": 5
}
