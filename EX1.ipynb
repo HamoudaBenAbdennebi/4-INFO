{
 "cells": [
  {
   "cell_type": "code",
   "execution_count": 47,
   "id": "86421a85",
   "metadata": {},
   "outputs": [],
   "source": [
    "import numpy as np"
   ]
  },
  {
   "cell_type": "code",
   "execution_count": 48,
   "id": "0a82bc24",
   "metadata": {},
   "outputs": [],
   "source": [
    "def inp(x):\n",
    "    while True:\n",
    "        print(x , end = \" \")\n",
    "        txt = int(input())\n",
    "        if(txt == 1 or txt ==0):\n",
    "            return txt\n",
    "            break"
   ]
  },
  {
   "cell_type": "code",
   "execution_count": 49,
   "id": "9b099524",
   "metadata": {},
   "outputs": [
    {
     "name": "stdout",
     "output_type": "stream",
     "text": [
      "N = 3\n"
     ]
    }
   ],
   "source": [
    "N = int(input('N = '))"
   ]
  },
  {
   "cell_type": "code",
   "execution_count": 50,
   "id": "273ef11e",
   "metadata": {},
   "outputs": [],
   "source": [
    "M = [[0 for i in range(N)]for j in range(N)]"
   ]
  },
  {
   "cell_type": "code",
   "execution_count": 51,
   "id": "afc8b5ec",
   "metadata": {},
   "outputs": [
    {
     "name": "stdout",
     "output_type": "stream",
     "text": [
      "[[0, 0, 0], [0, 0, 0], [0, 0, 0]]\n"
     ]
    }
   ],
   "source": [
    "print(M)"
   ]
  },
  {
   "cell_type": "code",
   "execution_count": 55,
   "id": "1ee72392",
   "metadata": {},
   "outputs": [
    {
     "name": "stdout",
     "output_type": "stream",
     "text": [
      "('M[', 0, ',', 0, '] = ') 1\n",
      "('M[', 0, ',', 1, '] = ') 2\n",
      "('M[', 0, ',', 1, '] = ') 0\n",
      "('M[', 0, ',', 2, '] = ') 0\n",
      "('M[', 1, ',', 0, '] = ') 0\n",
      "('M[', 1, ',', 1, '] = ') 0\n",
      "('M[', 1, ',', 2, '] = ') 0\n",
      "('M[', 2, ',', 0, '] = ') 0\n",
      "('M[', 2, ',', 1, '] = ') 0\n",
      "('M[', 2, ',', 2, '] = ') 0\n"
     ]
    }
   ],
   "source": [
    "for i in range(N):\n",
    "    for j in range(N):\n",
    "        x = 'M[',i,',',j,'] = '\n",
    "        M[i][j] = inp(x)"
   ]
  },
  {
   "cell_type": "code",
   "execution_count": 56,
   "id": "1c304cd8",
   "metadata": {},
   "outputs": [
    {
     "name": "stdout",
     "output_type": "stream",
     "text": [
      "NON identité\n"
     ]
    }
   ],
   "source": [
    "V = True\n",
    "for i in range(N):\n",
    "    for j in range(N):\n",
    "        if i != j and M[i][j] == 1:\n",
    "            V = False\n",
    "        if i == j and M[i][j] == 0:\n",
    "            V = False\n",
    "print('identité')if V else print('NON identité')"
   ]
  },
  {
   "cell_type": "code",
   "execution_count": null,
   "id": "acfb2cad",
   "metadata": {},
   "outputs": [],
   "source": []
  },
  {
   "cell_type": "code",
   "execution_count": null,
   "id": "ea999ce3",
   "metadata": {},
   "outputs": [],
   "source": []
  },
  {
   "cell_type": "code",
   "execution_count": null,
   "id": "ae6d106c",
   "metadata": {},
   "outputs": [],
   "source": []
  }
 ],
 "metadata": {
  "kernelspec": {
   "display_name": "Python 3",
   "language": "python",
   "name": "python3"
  },
  "language_info": {
   "codemirror_mode": {
    "name": "ipython",
    "version": 3
   },
   "file_extension": ".py",
   "mimetype": "text/x-python",
   "name": "python",
   "nbconvert_exporter": "python",
   "pygments_lexer": "ipython3",
   "version": "3.8.8"
  }
 },
 "nbformat": 4,
 "nbformat_minor": 5
}
